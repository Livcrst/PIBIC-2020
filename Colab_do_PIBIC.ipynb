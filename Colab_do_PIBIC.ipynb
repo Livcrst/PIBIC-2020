{
  "nbformat": 4,
  "nbformat_minor": 0,
  "metadata": {
    "colab": {
      "name": "Colab do PIBIC",
      "provenance": [],
      "collapsed_sections": [],
      "authorship_tag": "ABX9TyMucUpQKV65PiEA4xdWLp40",
      "include_colab_link": true
    },
    "kernelspec": {
      "name": "python3",
      "display_name": "Python 3"
    },
    "language_info": {
      "name": "python"
    }
  },
  "cells": [
    {
      "cell_type": "markdown",
      "metadata": {
        "id": "view-in-github",
        "colab_type": "text"
      },
      "source": [
        "<a href=\"https://colab.research.google.com/github/Livcrst/PIBIC-2020/blob/master/Colab_do_PIBIC.ipynb\" target=\"_parent\"><img src=\"https://colab.research.google.com/assets/colab-badge.svg\" alt=\"Open In Colab\"/></a>"
      ]
    },
    {
      "cell_type": "markdown",
      "metadata": {
        "id": "i_ouQZCVtFwW"
      },
      "source": [
        "#Este notebook está destinado ao algoritmo base do Pibic no ciclo 2020-2021.\n",
        "\n"
      ]
    },
    {
      "cell_type": "markdown",
      "metadata": {
        "id": "sRAAD0whtP-F"
      },
      "source": [
        "O que conteudo aqui abordado é de leitura de bases reais Vanets e criação de grafos, modelando para a observação de como os dados são compartilhados nestes ambientes."
      ]
    },
    {
      "cell_type": "markdown",
      "metadata": {
        "id": "ocNWQIjpu01N"
      },
      "source": [
        "\n",
        "\n",
        "```\n",
        "# Bibliotecas para a leitura da base de dados e criação inicial da rede, utilizando o dataset de Creteil-França.\n",
        "```\n",
        "\n"
      ]
    },
    {
      "cell_type": "code",
      "metadata": {
        "id": "8nuAc65ovGiX"
      },
      "source": [
        "\n",
        "import networkx as nx #utilizada para criar e manipular grafos\n",
        "import matplotlib.pyplot as plt #utilizada para as plotagens\n",
        "import numpy as np #manipulações numéricas\n",
        "import pandas as pd  #Leitura e tratamento de dados\n",
        "from scipy import stats #Biblioteca de estatistica"
      ],
      "execution_count": 86,
      "outputs": []
    },
    {
      "cell_type": "markdown",
      "metadata": {
        "id": "v08PATx47b46"
      },
      "source": [
        "-- Leitura de dados do dataset"
      ]
    },
    {
      "cell_type": "code",
      "metadata": {
        "id": "_j1lEMOW-P8h",
        "colab": {
          "base_uri": "https://localhost:8080/"
        },
        "outputId": "36d97823-3107-4ba2-fe6c-5b222acf7207"
      },
      "source": [
        "data = pd.read_csv('/content/vanet-trace-creteil.csv',sep=';')\n",
        "data.columns #mostra o titulo de cada coluna presente no dataset"
      ],
      "execution_count": 87,
      "outputs": [
        {
          "output_type": "execute_result",
          "data": {
            "text/plain": [
              "Index(['timestep_time,vehicle_slope,vehicle_lane,vehicle_angle,vehicle_type,vehicle_pos,vehicle_y,vehicle_x,vehicle_speed,vehicle_id'], dtype='object')"
            ]
          },
          "metadata": {
            "tags": []
          },
          "execution_count": 87
        }
      ]
    },
    {
      "cell_type": "markdown",
      "metadata": {
        "id": "9Ci0mPWK-Fbt"
      },
      "source": [
        "-- Construção da minha entidade veículo (uma tupla com os valores correspondentes a uma linha completa da planilha)"
      ]
    },
    {
      "cell_type": "code",
      "metadata": {
        "id": "5vmXEJbw-THu"
      },
      "source": [
        "def cleanerData(data):\n",
        "    #Percorrendo para salvar os dados do arquivo para \n",
        "    dataClean = []\n",
        "    for i in data:\n",
        "        item = i.rstrip()\n",
        "        # print(item)\n",
        "        dataClean.append(item)\n",
        "    print('Fim de leitura')\n",
        "    #Separa os valores pelo ;\n",
        "    clear = []\n",
        "    for j in dataClean:\n",
        "        value = j.split(';')\n",
        "        # print()\n",
        "        clear.append(value)\n",
        "    print('dados limpos')\n",
        "    return clear\n",
        "    # print(clear[len(clear)-1])\n"
      ],
      "execution_count": 88,
      "outputs": []
    },
    {
      "cell_type": "markdown",
      "metadata": {
        "id": "I45xJthq-f-l"
      },
      "source": [
        "-- Criação inicial das estruturas de vértices e arestas para meu grafo."
      ]
    },
    {
      "cell_type": "code",
      "metadata": {
        "id": "BHQGHE4UEHHC",
        "colab": {
          "base_uri": "https://localhost:8080/"
        },
        "outputId": "27369abb-f7d4-42bd-edd4-e79d1069c640"
      },
      "source": [
        "dados = open ('/content/vanet-trace-creteil.csv','r') \n",
        "dataUtils = cleanerData(dados)\n",
        "\n",
        "# print(dataUtils[1])\n",
        "\n",
        "vertices = []\n",
        "for element in dataUtils:\n",
        "  for item in element:\n",
        "   aux = item.split(',')\n",
        "   vertices.append(aux[7])\n",
        "# vertices\n",
        "print('Lista feita para os vertices')\n"
      ],
      "execution_count": 89,
      "outputs": [
        {
          "output_type": "stream",
          "text": [
            "Fim de leitura\n",
            "dados limpos\n",
            "Lista feita para os vertices\n"
          ],
          "name": "stdout"
        }
      ]
    },
    {
      "cell_type": "markdown",
      "metadata": {
        "id": "Tzsnx36vFBvx"
      },
      "source": [
        "Criação da estrutura grafo com a NX, chamando."
      ]
    },
    {
      "cell_type": "code",
      "metadata": {
        "id": "haklYxnAFG16"
      },
      "source": [
        "Graph = nx.Graph()"
      ],
      "execution_count": 90,
      "outputs": []
    },
    {
      "cell_type": "markdown",
      "metadata": {
        "id": "5r4C6dOAA4DN"
      },
      "source": [
        "-- Adicionando os vértices ao grafo inicial"
      ]
    },
    {
      "cell_type": "code",
      "metadata": {
        "id": "qd-PRQOQA9Ze"
      },
      "source": [
        "Graph.add_nodes_from(vertices)"
      ],
      "execution_count": 91,
      "outputs": []
    },
    {
      "cell_type": "markdown",
      "metadata": {
        "id": "sSaJEMGFBHlF"
      },
      "source": [
        "-- Separando por quadrantes e localizando vizinhanças"
      ]
    },
    {
      "cell_type": "code",
      "metadata": {
        "id": "cGpnhd0dBO0l"
      },
      "source": [
        "first = []\n",
        "second = []\n",
        "third = []\n",
        "fourth = []\n",
        "\n",
        "arestas = []\n",
        "for element in dataUtils:\n",
        "  for item in element:\n",
        "   aux = item.split(',')\n",
        "   if aux[3] !='vehicle_angle' :\n",
        "        angle = float(aux[3])\n",
        "        if angle >= 0 and angle <= 90:\n",
        "          first.append(element)\n",
        "          # print('aqui')\n",
        "        elif angle > 90 and angle <= 180:\n",
        "          second.append(element)\n",
        "          # print('aqui 2')\n",
        "        elif angle < 0 and angle <= -90:\n",
        "         third.append(element)\n",
        "        #  print('aqui 3')\n",
        "        else:\n",
        "         fourth.append(element)\n",
        "\n",
        "         \n",
        "\n",
        "\n"
      ],
      "execution_count": null,
      "outputs": []
    },
    {
      "cell_type": "markdown",
      "metadata": {
        "id": "Kk9pMChFhKeZ"
      },
      "source": [
        "-- As arestas serão encontradas por quadrante (Estes por sua vez são localizados por meio do angulos em que estão localizados os veiculos )."
      ]
    },
    {
      "cell_type": "markdown",
      "metadata": {
        "id": "Fn3tq72kiIpY"
      },
      "source": [
        "\n",
        "\n",
        "```\n",
        "# Para o primeiro quadrante\n",
        "```\n",
        "\n"
      ]
    },
    {
      "cell_type": "code",
      "metadata": {
        "id": "Zygoor8riPDi"
      },
      "source": [
        ""
      ],
      "execution_count": null,
      "outputs": []
    }
  ]
}